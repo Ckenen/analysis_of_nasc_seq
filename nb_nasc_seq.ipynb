{
 "cells": [
  {
   "cell_type": "code",
   "execution_count": 56,
   "id": "407ae34e",
   "metadata": {
    "ExecuteTime": {
     "end_time": "2023-11-22T05:19:54.855782Z",
     "start_time": "2023-11-22T05:19:54.720521Z"
    }
   },
   "outputs": [],
   "source": [
    "import os\n",
    "from collections import Counter\n",
    "import numpy as np\n",
    "import pandas as pd\n",
    "import matplotlib\n",
    "import matplotlib.pyplot as plt\n",
    "infos = pd.read_excel(\"data/NASCseq.xlsx\")"
   ]
  },
  {
   "cell_type": "markdown",
   "id": "17501bbc",
   "metadata": {},
   "source": [
    "# Datasets summary"
   ]
  },
  {
   "cell_type": "code",
   "execution_count": 5,
   "id": "a88a8bcd",
   "metadata": {
    "ExecuteTime": {
     "end_time": "2023-11-22T04:50:18.875463Z",
     "start_time": "2023-11-22T04:50:18.793125Z"
    }
   },
   "outputs": [
    {
     "data": {
      "text/plain": [
       "Counter({(0.0, 3.0): 39,\n",
       "         (50.0, 3.0): 38,\n",
       "         (100.0, 3.0): 12,\n",
       "         (200.0, 3.0): 9,\n",
       "         (50.0, 2.0): 10,\n",
       "         (100.0, 2.0): 10,\n",
       "         (200.0, 2.0): 12,\n",
       "         (500.0, 2.0): 13})"
      ]
     },
     "execution_count": 5,
     "metadata": {},
     "output_type": "execute_result"
    }
   ],
   "source": [
    "dat = pd.read_excel(\"data/NASCseq.xlsx\")\n",
    "dat = dat[dat[\"Method\"] == \"NASC-seq\"]\n",
    "dat = dat[[str(run).startswith(\"2022\") for run in dat[\"Run\"]]]\n",
    "Counter([tuple(vs) for vs in dat[[\"4sU\", \"Time\"]].values])"
   ]
  },
  {
   "cell_type": "markdown",
   "id": "08889fc1",
   "metadata": {},
   "source": [
    "# Report summary"
   ]
  },
  {
   "cell_type": "code",
   "execution_count": 2,
   "id": "f3d01169",
   "metadata": {
    "ExecuteTime": {
     "end_time": "2023-02-26T01:44:53.357055Z",
     "start_time": "2023-02-26T01:44:35.099316Z"
    },
    "scrolled": true
   },
   "outputs": [
    {
     "name": "stderr",
     "output_type": "stream",
     "text": [
      "/home/chenzonggui/miniconda3/lib/python3.6/site-packages/ipykernel_launcher.py:75: RuntimeWarning: invalid value encountered in true_divide\n"
     ]
    },
    {
     "data": {
      "text/html": [
       "<div>\n",
       "<style scoped>\n",
       "    .dataframe tbody tr th:only-of-type {\n",
       "        vertical-align: middle;\n",
       "    }\n",
       "\n",
       "    .dataframe tbody tr th {\n",
       "        vertical-align: top;\n",
       "    }\n",
       "\n",
       "    .dataframe thead th {\n",
       "        text-align: right;\n",
       "    }\n",
       "</style>\n",
       "<table border=\"1\" class=\"dataframe\">\n",
       "  <thead>\n",
       "    <tr style=\"text-align: right;\">\n",
       "      <th></th>\n",
       "      <th>Run</th>\n",
       "      <th>Cell</th>\n",
       "      <th>Strain</th>\n",
       "      <th>4sU</th>\n",
       "      <th>Time</th>\n",
       "      <th>Method</th>\n",
       "      <th>Layout</th>\n",
       "      <th>Strand</th>\n",
       "      <th>Species</th>\n",
       "      <th>Cells</th>\n",
       "      <th>...</th>\n",
       "      <th>UniqMapped%</th>\n",
       "      <th>Forward</th>\n",
       "      <th>Reverse</th>\n",
       "      <th>Stranded%</th>\n",
       "      <th>Pc</th>\n",
       "      <th>Pe</th>\n",
       "      <th>SignalToNoise</th>\n",
       "      <th>RNAs</th>\n",
       "      <th>NascentRNA</th>\n",
       "      <th>NascentRNA%</th>\n",
       "    </tr>\n",
       "  </thead>\n",
       "  <tbody>\n",
       "    <tr>\n",
       "      <th>0</th>\n",
       "      <td>20220113</td>\n",
       "      <td>20220113_02_02</td>\n",
       "      <td>K562</td>\n",
       "      <td>0.0</td>\n",
       "      <td>3</td>\n",
       "      <td>NASC-seq</td>\n",
       "      <td>PE</td>\n",
       "      <td>UN</td>\n",
       "      <td>Human</td>\n",
       "      <td>1.0</td>\n",
       "      <td>...</td>\n",
       "      <td>79.33</td>\n",
       "      <td>713508</td>\n",
       "      <td>660904</td>\n",
       "      <td>0.970959</td>\n",
       "      <td>0.054199</td>\n",
       "      <td>0.054076</td>\n",
       "      <td>1.002270</td>\n",
       "      <td>1374412</td>\n",
       "      <td>21665</td>\n",
       "      <td>1.576310</td>\n",
       "    </tr>\n",
       "    <tr>\n",
       "      <th>1</th>\n",
       "      <td>20220113</td>\n",
       "      <td>20220113_02_04</td>\n",
       "      <td>K562</td>\n",
       "      <td>0.0</td>\n",
       "      <td>3</td>\n",
       "      <td>NASC-seq</td>\n",
       "      <td>PE</td>\n",
       "      <td>UN</td>\n",
       "      <td>Human</td>\n",
       "      <td>NaN</td>\n",
       "      <td>...</td>\n",
       "      <td>80.91</td>\n",
       "      <td>921871</td>\n",
       "      <td>889547</td>\n",
       "      <td>0.971898</td>\n",
       "      <td>0.046281</td>\n",
       "      <td>0.053467</td>\n",
       "      <td>0.865600</td>\n",
       "      <td>1811418</td>\n",
       "      <td>27369</td>\n",
       "      <td>1.510916</td>\n",
       "    </tr>\n",
       "    <tr>\n",
       "      <th>2</th>\n",
       "      <td>20220113</td>\n",
       "      <td>20220113_02_05</td>\n",
       "      <td>K562</td>\n",
       "      <td>0.0</td>\n",
       "      <td>3</td>\n",
       "      <td>NASC-seq</td>\n",
       "      <td>PE</td>\n",
       "      <td>UN</td>\n",
       "      <td>Human</td>\n",
       "      <td>NaN</td>\n",
       "      <td>...</td>\n",
       "      <td>81.45</td>\n",
       "      <td>1124149</td>\n",
       "      <td>1094472</td>\n",
       "      <td>0.974661</td>\n",
       "      <td>0.044695</td>\n",
       "      <td>0.048489</td>\n",
       "      <td>0.921765</td>\n",
       "      <td>2218621</td>\n",
       "      <td>34081</td>\n",
       "      <td>1.536134</td>\n",
       "    </tr>\n",
       "    <tr>\n",
       "      <th>3</th>\n",
       "      <td>20220113</td>\n",
       "      <td>20220113_02_07</td>\n",
       "      <td>K562</td>\n",
       "      <td>0.0</td>\n",
       "      <td>3</td>\n",
       "      <td>NASC-seq</td>\n",
       "      <td>PE</td>\n",
       "      <td>UN</td>\n",
       "      <td>Human</td>\n",
       "      <td>NaN</td>\n",
       "      <td>...</td>\n",
       "      <td>76.77</td>\n",
       "      <td>400121</td>\n",
       "      <td>388481</td>\n",
       "      <td>0.965489</td>\n",
       "      <td>0.077170</td>\n",
       "      <td>0.055532</td>\n",
       "      <td>1.389636</td>\n",
       "      <td>788602</td>\n",
       "      <td>19423</td>\n",
       "      <td>2.462966</td>\n",
       "    </tr>\n",
       "    <tr>\n",
       "      <th>4</th>\n",
       "      <td>20220113</td>\n",
       "      <td>20220113_02_08</td>\n",
       "      <td>K562</td>\n",
       "      <td>0.0</td>\n",
       "      <td>3</td>\n",
       "      <td>NASC-seq</td>\n",
       "      <td>PE</td>\n",
       "      <td>UN</td>\n",
       "      <td>Human</td>\n",
       "      <td>NaN</td>\n",
       "      <td>...</td>\n",
       "      <td>85.26</td>\n",
       "      <td>1006034</td>\n",
       "      <td>1048607</td>\n",
       "      <td>0.963677</td>\n",
       "      <td>0.051876</td>\n",
       "      <td>0.047762</td>\n",
       "      <td>1.086117</td>\n",
       "      <td>2054641</td>\n",
       "      <td>46885</td>\n",
       "      <td>2.281907</td>\n",
       "    </tr>\n",
       "  </tbody>\n",
       "</table>\n",
       "<p>5 rows × 25 columns</p>\n",
       "</div>"
      ],
      "text/plain": [
       "        Run            Cell Strain  4sU Time    Method Layout Strand Species  \\\n",
       "0  20220113  20220113_02_02   K562  0.0    3  NASC-seq     PE     UN   Human   \n",
       "1  20220113  20220113_02_04   K562  0.0    3  NASC-seq     PE     UN   Human   \n",
       "2  20220113  20220113_02_05   K562  0.0    3  NASC-seq     PE     UN   Human   \n",
       "3  20220113  20220113_02_07   K562  0.0    3  NASC-seq     PE     UN   Human   \n",
       "4  20220113  20220113_02_08   K562  0.0    3  NASC-seq     PE     UN   Human   \n",
       "\n",
       "   Cells     ...      UniqMapped%  Forward  Reverse  Stranded%        Pc  \\\n",
       "0    1.0     ...            79.33   713508   660904   0.970959  0.054199   \n",
       "1    NaN     ...            80.91   921871   889547   0.971898  0.046281   \n",
       "2    NaN     ...            81.45  1124149  1094472   0.974661  0.044695   \n",
       "3    NaN     ...            76.77   400121   388481   0.965489  0.077170   \n",
       "4    NaN     ...            85.26  1006034  1048607   0.963677  0.051876   \n",
       "\n",
       "         Pe  SignalToNoise     RNAs  NascentRNA  NascentRNA%  \n",
       "0  0.054076       1.002270  1374412       21665     1.576310  \n",
       "1  0.053467       0.865600  1811418       27369     1.510916  \n",
       "2  0.048489       0.921765  2218621       34081     1.536134  \n",
       "3  0.055532       1.389636   788602       19423     2.462966  \n",
       "4  0.047762       1.086117  2054641       46885     2.281907  \n",
       "\n",
       "[5 rows x 25 columns]"
      ]
     },
     "execution_count": 2,
     "metadata": {},
     "output_type": "execute_result"
    }
   ],
   "source": [
    "def str2int(s):\n",
    "    return int(s.replace(\",\", \"\"))\n",
    "\n",
    "rows = []\n",
    "for run, cell in infos[[\"Run\", \"Cell\"]].values:\n",
    "    # cutadapt\n",
    "    total_reads = 0\n",
    "    trimmed_reads = 0\n",
    "    path = \"results/prepare/cutadapt/%s/%s.1.log\" % (run, cell)\n",
    "    if os.path.exists(path):\n",
    "        with open(path) as f:\n",
    "            for line in f:\n",
    "                if \"Total reads processed:\" in line or \"Total read pairs processed:\" in line:\n",
    "                    total_reads = str2int(line.strip(\"\\n\").split()[-1])\n",
    "                    break\n",
    "    path = \"results/prepare/cutadapt/%s/%s.2.log\" % (run, cell)\n",
    "    if os.path.exists(path):\n",
    "        with open(path) as f:\n",
    "            for line in f:\n",
    "                if \"Reads written (passing filters):\" in line or \"Pairs written (passing filters):\" in line:\n",
    "                    trimmed_reads = str2int(line.strip(\"\\n\").split()[-2])\n",
    "                    break\n",
    "                    \n",
    "    # bowtie2\n",
    "    rrna = 0\n",
    "    path = \"results/prepare/bowtie2/%s/%s.log\" % (run, cell)\n",
    "    if os.path.exists(path):\n",
    "        with open(path) as f:\n",
    "            for line in f:\n",
    "                if \"overall\" in line:\n",
    "                    rrna = float(line.split()[0][:-1])\n",
    "                    \n",
    "    # STAR\n",
    "    uniq_mapped = 0\n",
    "    path = \"results/mapping/star/%s/%s/%s.Log.final.out\" % (run, cell, cell)\n",
    "    if os.path.exists(path):\n",
    "        with open(path) as f:\n",
    "            for line in f:\n",
    "                if \"Uniquely mapped reads %\" in line:\n",
    "                    uniq_mapped = float(line.strip(\"\\n\").split()[-1][:-1])\n",
    "    \n",
    "    # mark strand\n",
    "    pos = 0\n",
    "    neg = 0\n",
    "    strand_perc = 0\n",
    "    path = \"results/mapping/marked_strand/%s/%s.tsv\" % (run, cell)\n",
    "    if os.path.exists(path):\n",
    "        d = pd.read_csv(path, sep=\"\\t\")\n",
    "        vs = d.iloc[0]\n",
    "        pos, neg = vs[1], vs[2]\n",
    "        strand_perc = np.divide(sum(vs[1:3]), sum(vs[1:5]))\n",
    "    \n",
    "    # mismatch events\n",
    "    pc = 0\n",
    "    pe = 0\n",
    "    signal = 0\n",
    "    path = \"results/mismatch/report/%s/%s/ratio.ce.tsv\" % (run, cell)\n",
    "    if os.path.exists(path):\n",
    "        d = pd.read_csv(path, sep=\"\\t\", index_col=0)\n",
    "        pc = d.loc[\"TC\"][\"Ratio\"] * 100\n",
    "        pe = np.mean(d.loc[[\"CT\", \"GA\"]][\"Ratio\"]) * 100\n",
    "        signal = np.divide(pc, pe)\n",
    "        \n",
    "    # nascent proportion\n",
    "    path = \"results/nascent/marked_nascent/%s/%s.tsv\" % (run, cell)\n",
    "    total = 0\n",
    "    nascent = 0\n",
    "    unknown = 0\n",
    "    nascent_perc = 0\n",
    "    if os.path.exists(path):\n",
    "        d = pd.read_csv(path, sep=\"\\t\")\n",
    "        total, nascent, unknown = d.iloc[0]\n",
    "        nascent_perc = np.divide(nascent, total) * 100\n",
    "        \n",
    "    rows.append([total_reads, trimmed_reads, np.divide(trimmed_reads, total_reads) * 100,\n",
    "                 rrna, uniq_mapped, \n",
    "                 pos, neg, strand_perc, \n",
    "                 pc, pe, signal,\n",
    "                 total, nascent, nascent_perc\n",
    "                ])        \n",
    "    \n",
    "df = pd.DataFrame(rows)\n",
    "df.columns = [\"TotalReads\", \"TrimmedReads\", \"TrimmedReads%\", \n",
    "              \"rRNA%\", \"UniqMapped%\", \n",
    "              \"Forward\", \"Reverse\", \"Stranded%\", \n",
    "              \"Pc\", \"Pe\", \"SignalToNoise\", \n",
    "              \"RNAs\", \"NascentRNA\", \"NascentRNA%\"]\n",
    "dat = pd.concat([infos, df], axis=1)\n",
    "dat.head()"
   ]
  },
  {
   "cell_type": "code",
   "execution_count": 3,
   "id": "36864fb6",
   "metadata": {
    "ExecuteTime": {
     "end_time": "2023-02-26T01:52:22.156870Z",
     "start_time": "2023-02-26T01:44:53.361405Z"
    }
   },
   "outputs": [],
   "source": [
    "# load expression\n",
    "data = dict()\n",
    "for run, cell in infos[[\"Run\", \"Cell\"]].values:\n",
    "    path = \"results/nascent/expression/annotated/%s/%s.tsv\" % (run, cell)\n",
    "    if os.path.exists(path):\n",
    "        d = pd.read_csv(path, sep=\"\\t\")\n",
    "        d = d[d[\"Canonical\"]]\n",
    "        d = d[(d[\"GeneType\"] == \"protein_coding\") | (d[\"GeneType\"] == \"lncRNA\")]\n",
    "        data[cell] = d"
   ]
  },
  {
   "cell_type": "code",
   "execution_count": 4,
   "id": "b42ad733",
   "metadata": {
    "ExecuteTime": {
     "end_time": "2023-02-26T01:52:36.994208Z",
     "start_time": "2023-02-26T01:52:22.160793Z"
    }
   },
   "outputs": [],
   "source": [
    "rows = []\n",
    "for run, cell in infos[[\"Run\", \"Cell\"]].values:\n",
    "    protein_coding = 0\n",
    "    protein_coding_nascent = 0\n",
    "    lncRNA = 0\n",
    "    lncRNA_nascent = 0\n",
    "    if cell in data:\n",
    "        d = data[cell]\n",
    "        d1 = d[d[\"GeneType\"] == \"protein_coding\"]\n",
    "        d2 = d1[d1[\"FPKM\"] >= 1]\n",
    "        d3 = d1[(d1[\"FPKM[Nascent]\"] >= 1) & (d1[\"Count[Nascent]\"] >= 1)]\n",
    "        protein_coding = len(set(d2[\"GeneName\"]))\n",
    "        protein_coding_nascent = len(set(d3[\"GeneName\"]))\n",
    "        \n",
    "        d1 = d[d[\"GeneType\"] == \"lncRNA\"]\n",
    "        d2 = d1[d1[\"FPKM\"] >= 1]\n",
    "        d3 = d1[d1[\"FPKM[Nascent]\"] >= 1]\n",
    "        lncRNA = len(set(d2[\"GeneName\"]))\n",
    "        lncRNA_nascent = len(set(d3[\"GeneName\"]))\n",
    "    rows.append([protein_coding, protein_coding_nascent, lncRNA, lncRNA_nascent])"
   ]
  },
  {
   "cell_type": "code",
   "execution_count": 5,
   "id": "f0370876",
   "metadata": {
    "ExecuteTime": {
     "end_time": "2023-02-26T01:52:37.037740Z",
     "start_time": "2023-02-26T01:52:36.996368Z"
    }
   },
   "outputs": [
    {
     "data": {
      "text/html": [
       "<div>\n",
       "<style scoped>\n",
       "    .dataframe tbody tr th:only-of-type {\n",
       "        vertical-align: middle;\n",
       "    }\n",
       "\n",
       "    .dataframe tbody tr th {\n",
       "        vertical-align: top;\n",
       "    }\n",
       "\n",
       "    .dataframe thead th {\n",
       "        text-align: right;\n",
       "    }\n",
       "</style>\n",
       "<table border=\"1\" class=\"dataframe\">\n",
       "  <thead>\n",
       "    <tr style=\"text-align: right;\">\n",
       "      <th></th>\n",
       "      <th>Run</th>\n",
       "      <th>Cell</th>\n",
       "      <th>Strain</th>\n",
       "      <th>4sU</th>\n",
       "      <th>Time</th>\n",
       "      <th>Method</th>\n",
       "      <th>Layout</th>\n",
       "      <th>Strand</th>\n",
       "      <th>Species</th>\n",
       "      <th>Cells</th>\n",
       "      <th>...</th>\n",
       "      <th>Pc</th>\n",
       "      <th>Pe</th>\n",
       "      <th>SignalToNoise</th>\n",
       "      <th>RNAs</th>\n",
       "      <th>NascentRNA</th>\n",
       "      <th>NascentRNA%</th>\n",
       "      <th>Protein_coding</th>\n",
       "      <th>Protein_coding[Nascent]</th>\n",
       "      <th>lncRNA</th>\n",
       "      <th>lncRNA[Nascent]</th>\n",
       "    </tr>\n",
       "  </thead>\n",
       "  <tbody>\n",
       "    <tr>\n",
       "      <th>0</th>\n",
       "      <td>20220113</td>\n",
       "      <td>20220113_02_02</td>\n",
       "      <td>K562</td>\n",
       "      <td>0.0</td>\n",
       "      <td>3</td>\n",
       "      <td>NASC-seq</td>\n",
       "      <td>PE</td>\n",
       "      <td>UN</td>\n",
       "      <td>Human</td>\n",
       "      <td>1.0</td>\n",
       "      <td>...</td>\n",
       "      <td>0.054199</td>\n",
       "      <td>0.054076</td>\n",
       "      <td>1.002270</td>\n",
       "      <td>1374412</td>\n",
       "      <td>21665</td>\n",
       "      <td>1.576310</td>\n",
       "      <td>5489</td>\n",
       "      <td>1036</td>\n",
       "      <td>400</td>\n",
       "      <td>29</td>\n",
       "    </tr>\n",
       "    <tr>\n",
       "      <th>1</th>\n",
       "      <td>20220113</td>\n",
       "      <td>20220113_02_04</td>\n",
       "      <td>K562</td>\n",
       "      <td>0.0</td>\n",
       "      <td>3</td>\n",
       "      <td>NASC-seq</td>\n",
       "      <td>PE</td>\n",
       "      <td>UN</td>\n",
       "      <td>Human</td>\n",
       "      <td>NaN</td>\n",
       "      <td>...</td>\n",
       "      <td>0.046281</td>\n",
       "      <td>0.053467</td>\n",
       "      <td>0.865600</td>\n",
       "      <td>1811418</td>\n",
       "      <td>27369</td>\n",
       "      <td>1.510916</td>\n",
       "      <td>4242</td>\n",
       "      <td>897</td>\n",
       "      <td>230</td>\n",
       "      <td>29</td>\n",
       "    </tr>\n",
       "    <tr>\n",
       "      <th>2</th>\n",
       "      <td>20220113</td>\n",
       "      <td>20220113_02_05</td>\n",
       "      <td>K562</td>\n",
       "      <td>0.0</td>\n",
       "      <td>3</td>\n",
       "      <td>NASC-seq</td>\n",
       "      <td>PE</td>\n",
       "      <td>UN</td>\n",
       "      <td>Human</td>\n",
       "      <td>NaN</td>\n",
       "      <td>...</td>\n",
       "      <td>0.044695</td>\n",
       "      <td>0.048489</td>\n",
       "      <td>0.921765</td>\n",
       "      <td>2218621</td>\n",
       "      <td>34081</td>\n",
       "      <td>1.536134</td>\n",
       "      <td>4458</td>\n",
       "      <td>824</td>\n",
       "      <td>257</td>\n",
       "      <td>21</td>\n",
       "    </tr>\n",
       "    <tr>\n",
       "      <th>3</th>\n",
       "      <td>20220113</td>\n",
       "      <td>20220113_02_07</td>\n",
       "      <td>K562</td>\n",
       "      <td>0.0</td>\n",
       "      <td>3</td>\n",
       "      <td>NASC-seq</td>\n",
       "      <td>PE</td>\n",
       "      <td>UN</td>\n",
       "      <td>Human</td>\n",
       "      <td>NaN</td>\n",
       "      <td>...</td>\n",
       "      <td>0.077170</td>\n",
       "      <td>0.055532</td>\n",
       "      <td>1.389636</td>\n",
       "      <td>788602</td>\n",
       "      <td>19423</td>\n",
       "      <td>2.462966</td>\n",
       "      <td>4575</td>\n",
       "      <td>1132</td>\n",
       "      <td>289</td>\n",
       "      <td>45</td>\n",
       "    </tr>\n",
       "    <tr>\n",
       "      <th>4</th>\n",
       "      <td>20220113</td>\n",
       "      <td>20220113_02_08</td>\n",
       "      <td>K562</td>\n",
       "      <td>0.0</td>\n",
       "      <td>3</td>\n",
       "      <td>NASC-seq</td>\n",
       "      <td>PE</td>\n",
       "      <td>UN</td>\n",
       "      <td>Human</td>\n",
       "      <td>NaN</td>\n",
       "      <td>...</td>\n",
       "      <td>0.051876</td>\n",
       "      <td>0.047762</td>\n",
       "      <td>1.086117</td>\n",
       "      <td>2054641</td>\n",
       "      <td>46885</td>\n",
       "      <td>2.281907</td>\n",
       "      <td>6559</td>\n",
       "      <td>1389</td>\n",
       "      <td>467</td>\n",
       "      <td>31</td>\n",
       "    </tr>\n",
       "  </tbody>\n",
       "</table>\n",
       "<p>5 rows × 29 columns</p>\n",
       "</div>"
      ],
      "text/plain": [
       "        Run            Cell Strain  4sU Time    Method Layout Strand Species  \\\n",
       "0  20220113  20220113_02_02   K562  0.0    3  NASC-seq     PE     UN   Human   \n",
       "1  20220113  20220113_02_04   K562  0.0    3  NASC-seq     PE     UN   Human   \n",
       "2  20220113  20220113_02_05   K562  0.0    3  NASC-seq     PE     UN   Human   \n",
       "3  20220113  20220113_02_07   K562  0.0    3  NASC-seq     PE     UN   Human   \n",
       "4  20220113  20220113_02_08   K562  0.0    3  NASC-seq     PE     UN   Human   \n",
       "\n",
       "   Cells       ...               Pc        Pe  SignalToNoise     RNAs  \\\n",
       "0    1.0       ...         0.054199  0.054076       1.002270  1374412   \n",
       "1    NaN       ...         0.046281  0.053467       0.865600  1811418   \n",
       "2    NaN       ...         0.044695  0.048489       0.921765  2218621   \n",
       "3    NaN       ...         0.077170  0.055532       1.389636   788602   \n",
       "4    NaN       ...         0.051876  0.047762       1.086117  2054641   \n",
       "\n",
       "   NascentRNA  NascentRNA%  Protein_coding  Protein_coding[Nascent]  lncRNA  \\\n",
       "0       21665     1.576310            5489                     1036     400   \n",
       "1       27369     1.510916            4242                      897     230   \n",
       "2       34081     1.536134            4458                      824     257   \n",
       "3       19423     2.462966            4575                     1132     289   \n",
       "4       46885     2.281907            6559                     1389     467   \n",
       "\n",
       "   lncRNA[Nascent]  \n",
       "0               29  \n",
       "1               29  \n",
       "2               21  \n",
       "3               45  \n",
       "4               31  \n",
       "\n",
       "[5 rows x 29 columns]"
      ]
     },
     "execution_count": 5,
     "metadata": {},
     "output_type": "execute_result"
    }
   ],
   "source": [
    "df = pd.DataFrame(rows)\n",
    "df.columns = [\"Protein_coding\", \"Protein_coding[Nascent]\", \"lncRNA\", \"lncRNA[Nascent]\"]\n",
    "dat1 = pd.concat([dat, df], axis=1)\n",
    "dat1.head()"
   ]
  },
  {
   "cell_type": "code",
   "execution_count": 6,
   "id": "148d6b02",
   "metadata": {
    "ExecuteTime": {
     "end_time": "2023-02-26T01:52:38.374088Z",
     "start_time": "2023-02-26T01:52:37.039567Z"
    }
   },
   "outputs": [],
   "source": [
    "dat1.to_excel(\"data/NASCseq_summary.xlsx\", index=False)"
   ]
  },
  {
   "cell_type": "code",
   "execution_count": 43,
   "id": "00be402f",
   "metadata": {
    "ExecuteTime": {
     "end_time": "2023-02-25T13:42:54.902367Z",
     "start_time": "2023-02-25T13:42:54.119295Z"
    }
   },
   "outputs": [
    {
     "data": {
      "image/png": "[encoded data removed]",
      "text/plain": [
       "<Figure size 432x288 with 1 Axes>"
      ]
     },
     "metadata": {
      "needs_background": "light"
     },
     "output_type": "display_data"
    }
   ],
   "source": [
    "names = []\n",
    "array = []\n",
    "for run, d1 in dat1.groupby(by=\"Run\"):\n",
    "    for s4u, d2 in d1.groupby(by=\"4sU\"):\n",
    "        for time, d3 in d2.groupby(by=\"Time\"):\n",
    "            # print(run, s4u, time, len(d3), sep=\"\\t\")\n",
    "            name = \"%s_%duM_%s\" % (run, s4u, time)\n",
    "            names.append(name)\n",
    "            array.append(d3[\"Pc\"].values)\n",
    "xs = np.arange(len(array))\n",
    "\n",
    "plt.figure()\n",
    "plt.boxplot(array, positions=xs)\n",
    "plt.xticks(xs, names, rotation=90)\n",
    "plt.ylim(0, 3)\n",
    "plt.tight_layout()\n",
    "plt.show()"
   ]
  },
  {
   "cell_type": "markdown",
   "id": "8587d8b9",
   "metadata": {},
   "source": [
    "# Mismatch ratio"
   ]
  },
  {
   "cell_type": "code",
   "execution_count": 16,
   "id": "166ad231",
   "metadata": {
    "ExecuteTime": {
     "end_time": "2023-11-22T05:00:58.771325Z",
     "start_time": "2023-11-22T05:00:58.757979Z"
    }
   },
   "outputs": [
    {
     "name": "stdout",
     "output_type": "stream",
     "text": [
      "39\n"
     ]
    }
   ],
   "source": [
    "d = infos[(infos[\"Strain\"] == \"K562\") & (infos[\"4sU\"] == 0) & (infos[\"Time\"] == 3)]\n",
    "print(len(d))"
   ]
  },
  {
   "cell_type": "code",
   "execution_count": 28,
   "id": "3e19b1f1",
   "metadata": {
    "ExecuteTime": {
     "end_time": "2023-11-22T05:04:39.096166Z",
     "start_time": "2023-11-22T05:04:38.860966Z"
    }
   },
   "outputs": [
    {
     "name": "stdout",
     "output_type": "stream",
     "text": [
      "0\n",
      "0\n"
     ]
    }
   ],
   "source": [
    "array = []\n",
    "for run, cell in d[[\"Run\", \"Cell\"]].values:\n",
    "    path = \"results/nascent/ratio/%s/%s.tsv\" % (run, cell)\n",
    "    tmp = pd.read_csv(path, sep=\"\\t\", index_col=0)\n",
    "    if tmp[\"BaseCount\"].values[0] < 40000000:\n",
    "        print(0)\n",
    "    s = tmp[\"Ratio[NoSNP]\"]\n",
    "    s.name = cell\n",
    "    array.append(s)\n",
    "df = pd.concat(array, axis=1).T"
   ]
  },
  {
   "cell_type": "code",
   "execution_count": 53,
   "id": "3809f1e7",
   "metadata": {
    "ExecuteTime": {
     "end_time": "2023-11-22T05:14:46.179439Z",
     "start_time": "2023-11-22T05:14:45.076450Z"
    }
   },
   "outputs": [
    {
     "data": {
      "image/png": "[encoded data removed]",
      "text/plain": [
       "<Figure size 792x158.4 with 12 Axes>"
      ]
     },
     "metadata": {},
     "output_type": "display_data"
    }
   ],
   "source": [
    "mtypes = ['AC', 'AG', 'AT', 'CA', 'CG', 'CT', 'GA', 'GC', 'GT', 'TA', 'TC', 'TG']\n",
    "vmax = 0.2\n",
    "fig, axs = plt.subplots(1, 12, figsize=(11, 2.2), gridspec_kw=dict(wspace=0), sharex=True, sharey=True)\n",
    "for i, mtype in enumerate(mtypes):\n",
    "    xs = df[mtype] * 100\n",
    "    # xs = df[[\"GA\", \"CT\"]].mean(axis=1) * 100\n",
    "    ys = df[\"TC\"] * 100\n",
    "    a, b = np.polyfit(xs, ys, 1)\n",
    "    r = np.corrcoef(xs, ys)[0][1]\n",
    "    \n",
    "    plt.sca(axs[i])\n",
    "    plt.scatter(xs, ys, marker=\".\")\n",
    "    plt.xticks([])\n",
    "    plt.yticks([])\n",
    "    plt.xlabel(mtype)\n",
    "    if i == 0:\n",
    "        plt.ylabel(\"TC\")\n",
    "    plt.xlim(0, vmax)\n",
    "    plt.ylim(0, vmax)\n",
    "    plt.plot([0, vmax], [b, a * vmax + b], lw=1, ls=\"--\", color=\"grey\")\n",
    "    plt.text(vmax * 0.1, vmax * 1.5, \"a=%.2f\" % a)\n",
    "    plt.text(vmax * 0.1, vmax * 1.3, \"b=%.2f\" % b)\n",
    "    plt.text(vmax * 0.1, vmax * 1.1, \"r=%.2f\" % r)\n",
    "    \n",
    "plt.tight_layout()\n",
    "plt.show()"
   ]
  },
  {
   "cell_type": "code",
   "execution_count": null,
   "id": "b681e365",
   "metadata": {},
   "outputs": [],
   "source": []
  }
 ],
 "metadata": {
  "kernelspec": {
   "display_name": "Python 3",
   "language": "python",
   "name": "python3"
  },
  "language_info": {
   "codemirror_mode": {
    "name": "ipython",
    "version": 3
   },
   "file_extension": ".py",
   "mimetype": "text/x-python",
   "name": "python",
   "nbconvert_exporter": "python",
   "pygments_lexer": "ipython3",
   "version": "3.6.15"
  }
 },
 "nbformat": 4,
 "nbformat_minor": 5
}
