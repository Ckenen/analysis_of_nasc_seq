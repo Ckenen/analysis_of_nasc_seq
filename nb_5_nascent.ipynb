{
 "cells": [
  {
   "cell_type": "code",
   "execution_count": 1,
   "id": "ad709531",
   "metadata": {
    "ExecuteTime": {
     "end_time": "2023-03-19T09:30:38.700772Z",
     "start_time": "2023-03-19T09:30:37.831877Z"
    }
   },
   "outputs": [],
   "source": [
    "import os, glob\n",
    "import numpy as np\n",
    "import pandas as pd\n",
    "from collections import defaultdict, Counter\n",
    "import matplotlib.pyplot as plt\n",
    "from pyBioInfo.IO.File import GtfFile, GtfTranscriptBuilder, FamFile, BedFile\n",
    "from pyBioInfo.Utils import ShiftLoader\n",
    "infos = pd.read_excel(\"data/NASCseq.xlsx\")"
   ]
  },
  {
   "cell_type": "code",
   "execution_count": 7,
   "id": "3cc26fcc",
   "metadata": {
    "ExecuteTime": {
     "end_time": "2023-03-19T09:36:12.403319Z",
     "start_time": "2023-03-19T09:36:12.333510Z"
    }
   },
   "outputs": [
    {
     "name": "stdout",
     "output_type": "stream",
     "text": [
      "28\n",
      "67\n"
     ]
    }
   ],
   "source": [
    "infos = pd.read_excel(\"NASCseq_filtered.xls\", sep=\"\\t\")\n",
    "\n",
    "data = dict()\n",
    "\n",
    "rs = [\"20220113_NASCseq_K562\", \"20220321_NASCseq_K562\", \"20220418_NASCseq_K562\"]\n",
    "tmp = infos[[x in rs for x in infos[\"Run\"]]]\n",
    "tmp = tmp[(tmp[\"4sU\"] == 50) & (tmp[\"Time\"] == 3)]\n",
    "print(len(tmp))\n",
    "data[\"NASC-seq\"] = tmp\n",
    "\n",
    "tmp = infos[[x in [\"GSE128273_NASCseq_K562_SE\"] for x in infos[\"Run\"]]]\n",
    "tmp = tmp[(tmp[\"4sU\"] == 50) & (tmp[\"Time\"] == 3)]\n",
    "print(len(tmp))\n",
    "data[\"GSE128273\"] = tmp"
   ]
  },
  {
   "cell_type": "code",
   "execution_count": 4,
   "id": "fcdcccf1",
   "metadata": {
    "ExecuteTime": {
     "end_time": "2023-03-19T09:31:47.739226Z",
     "start_time": "2023-03-19T09:31:47.709282Z"
    }
   },
   "outputs": [
    {
     "name": "stdout",
     "output_type": "stream",
     "text": [
      "38\n",
      "80\n"
     ]
    }
   ],
   "source": [
    "data = dict()\n",
    "\n",
    "rs = [\"20220113_NASCseq_K562\", \"20220321_NASCseq_K562\", \"20220418_NASCseq_K562\"]\n",
    "tmp = infos[[x in rs for x in infos[\"Run\"]]]\n",
    "tmp = tmp[(tmp[\"4sU\"] == 50) & (tmp[\"Time\"] == 3)]\n",
    "print(len(tmp))\n",
    "data[\"NASC-seq\"] = tmp\n",
    "\n",
    "tmp = infos[[x in [\"GSE128273_NASCseq_K562_SE\"] for x in infos[\"Run\"]]]\n",
    "tmp = tmp[(tmp[\"4sU\"] == 50) & (tmp[\"Time\"] == 3)]\n",
    "print(len(tmp))\n",
    "data[\"GSE128273\"] = tmp"
   ]
  },
  {
   "cell_type": "code",
   "execution_count": 35,
   "id": "72ae8ffb",
   "metadata": {
    "ExecuteTime": {
     "end_time": "2023-02-26T02:58:24.371866Z",
     "start_time": "2023-02-26T02:58:23.876806Z"
    }
   },
   "outputs": [],
   "source": [
    "conversions = dict()\n",
    "for k, v in data.items():\n",
    "    for run, cell in v[[\"Run\", \"Cell\"]].values:\n",
    "        path = \"results/mismatch/report/%s/%s/ratio.ce.tsv\" % (run, cell)\n",
    "        d = pd.read_csv(path, sep=\"\\t\", index_col=0)\n",
    "        v = d.loc[\"TC\"][\"Ratio\"]\n",
    "        conversions[cell] = v"
   ]
  },
  {
   "cell_type": "code",
   "execution_count": 23,
   "id": "dd3ff1af",
   "metadata": {
    "ExecuteTime": {
     "end_time": "2023-02-26T02:54:19.902368Z",
     "start_time": "2023-02-26T02:52:47.905998Z"
    }
   },
   "outputs": [],
   "source": [
    "fpkms = dict()\n",
    "for k, v in data.items():\n",
    "    for run, cell in v[[\"Run\", \"Cell\"]].values:\n",
    "        path = \"results/nascent/expression/annotated/%s/%s.tsv\" % (run, cell)\n",
    "        fpkms[cell] = pd.read_csv(path, sep=\"\\t\")"
   ]
  },
  {
   "cell_type": "code",
   "execution_count": 53,
   "id": "67ef842c",
   "metadata": {
    "ExecuteTime": {
     "end_time": "2023-02-26T03:09:53.789391Z",
     "start_time": "2023-02-26T03:09:44.058211Z"
    }
   },
   "outputs": [
    {
     "name": "stdout",
     "output_type": "stream",
     "text": [
      "30\n"
     ]
    },
    {
     "name": "stderr",
     "output_type": "stream",
     "text": [
      "/home/chenzonggui/miniconda3/lib/python3.6/site-packages/ipykernel_launcher.py:24: RuntimeWarning: divide by zero encountered in log2\n",
      "/home/chenzonggui/miniconda3/lib/python3.6/site-packages/ipykernel_launcher.py:24: RuntimeWarning: invalid value encountered in double_scalars\n",
      "/home/chenzonggui/miniconda3/lib/python3.6/site-packages/ipykernel_launcher.py:24: RuntimeWarning: divide by zero encountered in double_scalars\n"
     ]
    },
    {
     "name": "stdout",
     "output_type": "stream",
     "text": [
      "64\n"
     ]
    }
   ],
   "source": [
    "merged = dict()\n",
    "for k, v in data.items():\n",
    "    ref = None\n",
    "    n = 0\n",
    "    for run, cell in v[[\"Run\", \"Cell\"]].values:\n",
    "        d = fpkms[cell]\n",
    "        if d[\"LibSize\"].values[0] > 500000 and conversions[cell] > 0.008:\n",
    "            n += 1\n",
    "            if ref is None:\n",
    "                ref = d.copy()\n",
    "            else:\n",
    "                ref[\"Count\"] = ref[\"Count\"] + d[\"Count\"]\n",
    "                ref[\"Count[Exists]\"] = ref[\"Count[Exists]\"] + d[\"Count[Exists]\"]\n",
    "                ref[\"Count[Nascent]\"] = ref[\"Count[Nascent]\"] + d[\"Count[Nascent]\"]\n",
    "                ref[\"LibSize\"] = ref[\"LibSize\"] + d[\"LibSize\"]\n",
    "    print(n)\n",
    "    ref[\"FPKM\"] = ref[\"Count\"] * 1e9 / ref[\"Length\"] / ref[\"LibSize\"]\n",
    "    ref[\"FPKM[Exists]\"] = ref[\"Count[Exists]\"] * 1e9 / ref[\"Length\"] / ref[\"LibSize\"]\n",
    "    ref[\"FPKM[Nascent]\"] = ref[\"Count[Nascent]\"] * 1e9 / ref[\"Length\"] / ref[\"LibSize\"]\n",
    "    \n",
    "    Ts = []\n",
    "    t = 3\n",
    "    for total, nascent in ref[[\"Count\", \"Count[Nascent]\"]].values:\n",
    "        T = t / (np.log2(total) - np.log2(total - nascent))\n",
    "        Ts.append(T)\n",
    "    ref[\"T\"] = Ts\n",
    "    merged[k] = ref"
   ]
  },
  {
   "cell_type": "code",
   "execution_count": 52,
   "id": "b1a9b39d",
   "metadata": {
    "ExecuteTime": {
     "end_time": "2023-02-26T03:08:15.714469Z",
     "start_time": "2023-02-26T03:08:15.478886Z"
    }
   },
   "outputs": [
    {
     "name": "stdout",
     "output_type": "stream",
     "text": [
      "--------------------------------------------------------------------------------\n",
      "MYC\t1798\t1564\t0.8698553948832035\n",
      "PDLIM5\t3461\t997\t0.28806703264952327\n",
      "GAPDH\t178123\t17122\t0.09612458806555021\n",
      "--------------------------------------------------------------------------------\n",
      "MYC\t5741\t3937\t0.6857690297857516\n",
      "PDLIM5\t5290\t1139\t0.21531190926275992\n",
      "GAPDH\t481689\t27296\t0.05666726871487619\n"
     ]
    }
   ],
   "source": [
    "tids = [\"ENST00000652288.1\", \"ENST00000317968.9\", \"ENST00000229239.10\"]\n",
    "gnames = [\"MYC\", \"PDLIM5\", \"GAPDH\"]\n",
    "\n",
    "for k, d in merged.items():\n",
    "    print(\"-\" * 80)\n",
    "    for tid, gname in zip(tids, gnames):\n",
    "        d1 = d[d[\"TranscriptID\"] == tid]\n",
    "        v1 = d1[\"Count\"].values[0]\n",
    "        v2 = d1[\"Count[Nascent]\"].values[0]\n",
    "        print(gname, v1, v2, v2 / v1, sep=\"\\t\")"
   ]
  },
  {
   "cell_type": "code",
   "execution_count": 50,
   "id": "5022b3d1",
   "metadata": {
    "ExecuteTime": {
     "end_time": "2023-02-26T03:07:46.873627Z",
     "start_time": "2023-02-26T03:07:37.509823Z"
    }
   },
   "outputs": [],
   "source": [
    "for k, d in merged.items():\n",
    "    path = \"results/halflife/%s_K562_50uM_3h.tsv\" % k\n",
    "    d.to_csv(path, sep=\"\\t\", index=False)"
   ]
  }
 ],
 "metadata": {
  "kernelspec": {
   "display_name": "Python 3",
   "language": "python",
   "name": "python3"
  },
  "language_info": {
   "codemirror_mode": {
    "name": "ipython",
    "version": 3
   },
   "file_extension": ".py",
   "mimetype": "text/x-python",
   "name": "python",
   "nbconvert_exporter": "python",
   "pygments_lexer": "ipython3",
   "version": "3.6.15"
  }
 },
 "nbformat": 4,
 "nbformat_minor": 5
}
