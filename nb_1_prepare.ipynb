{
 "cells": [
  {
   "cell_type": "code",
   "execution_count": 1,
   "id": "dbd585a1",
   "metadata": {
    "ExecuteTime": {
     "end_time": "2023-10-12T08:52:43.809356Z",
     "start_time": "2023-10-12T08:52:41.012397Z"
    }
   },
   "outputs": [],
   "source": [
    "import glob\n",
    "from collections import Counter\n",
    "import numpy as np\n",
    "import pandas as pd\n",
    "import matplotlib.pyplot as plt"
   ]
  },
  {
   "cell_type": "markdown",
   "id": "09b332ca",
   "metadata": {},
   "source": [
    "# Datasets summary"
   ]
  },
  {
   "cell_type": "code",
   "execution_count": 2,
   "id": "6fbdb17e",
   "metadata": {
    "ExecuteTime": {
     "end_time": "2023-10-12T08:52:44.288689Z",
     "start_time": "2023-10-12T08:52:43.813404Z"
    },
    "scrolled": true
   },
   "outputs": [
    {
     "data": {
      "text/plain": [
       "Counter({(0.0, 3.0): 39,\n",
       "         (50.0, 3.0): 38,\n",
       "         (100.0, 3.0): 12,\n",
       "         (200.0, 3.0): 9,\n",
       "         (50.0, 2.0): 10,\n",
       "         (100.0, 2.0): 10,\n",
       "         (200.0, 2.0): 12,\n",
       "         (500.0, 2.0): 13})"
      ]
     },
     "execution_count": 2,
     "metadata": {},
     "output_type": "execute_result"
    }
   ],
   "source": [
    "dat = pd.read_excel(\"data/NASCseq.xlsx\")\n",
    "dat = dat[dat[\"Method\"] == \"NASC-seq\"]\n",
    "dat = dat[[str(run).startswith(\"2022\") for run in dat[\"Run\"]]]\n",
    "Counter([tuple(vs) for vs in dat[[\"4sU\", \"Time\"]].values])"
   ]
  },
  {
   "cell_type": "code",
   "execution_count": null,
   "id": "3b2e76f8",
   "metadata": {},
   "outputs": [],
   "source": []
  }
 ],
 "metadata": {
  "kernelspec": {
   "display_name": "Python 3",
   "language": "python",
   "name": "python3"
  },
  "language_info": {
   "codemirror_mode": {
    "name": "ipython",
    "version": 3
   },
   "file_extension": ".py",
   "mimetype": "text/x-python",
   "name": "python",
   "nbconvert_exporter": "python",
   "pygments_lexer": "ipython3",
   "version": "3.6.15"
  }
 },
 "nbformat": 4,
 "nbformat_minor": 5
}
